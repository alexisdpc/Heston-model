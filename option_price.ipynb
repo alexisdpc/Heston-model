{
 "cells": [
  {
   "attachments": {},
   "cell_type": "markdown",
   "metadata": {},
   "source": [
    "## Option pricing with the Heston model\n",
    "\n",
    "The Heston Model models the volatility of the asset as a stochastic process. The price of the asset is given by\n",
    "\n",
    "\\begin{align}\n",
    "dS_t & = \\mu S_t dt + \\sqrt{V_t} S_t dW_t^S \\\\[0.5ex]\n",
    "dV_t &= \\alpha(b-V_t)dt + \\sigma \\sqrt{V_t} dW_t^V \n",
    "\\end{align}\n",
    "\n",
    "and the correlation between the two Brownian motion is given by\n",
    "\n",
    "\\begin{equation}\n",
    "dW_t^S dW_t^V = \\rho \\, dt.\n",
    "\\end{equation}\n",
    "\n",
    "Using Feynman-Kac formula we can calculate the option price as an expectation value\n",
    "\\begin{align}\n",
    "c_t & = \\mathbf{E}[e^{-r(T-t)} {\\rm max}(0,S_T-K)  \\, \\,  |  \\, \\, S_t] \\\\[0.5ex]\n",
    "p_t & = \\mathbf{E}[e^{-r(T-t)} {\\rm max}(0,K-S_T)  \\, \\, |  \\, \\,S_t ]\n",
    "\\end{align}\n",
    "where $c_t$ ($p_t$) corresponds to a call (put) option, $S_T$ is the stock price at maturity and $K$ is the strike price.\n",
    "\n"
   ]
  },
  {
   "cell_type": "code",
   "execution_count": 7,
   "metadata": {},
   "outputs": [],
   "source": [
    "# ========================== Option price ===========================\n",
    "# Author: Alexis D. Plascencia\n",
    "# We implement the stochastic Heston Model for stock pricing\n",
    "# We calculate the price of a Call and a Put option\n",
    "# =====================================================================\n",
    "\n",
    "import numpy as np\n",
    "import matplotlib.pylab as plt\n",
    "import scipy.stats as ss\n",
    "import pandas as pd\n",
    "\n",
    "from matplotlib.backends.backend_pdf import PdfPages\n",
    "from matplotlib import pyplot\n",
    "from random import randint\n",
    "\n",
    "from matplotlib import rc\n",
    "rc('font',**{'family':'sans-serif','sans-serif':['Helvetica']})\n",
    "rc('text', usetex=True)"
   ]
  },
  {
   "cell_type": "code",
   "execution_count": 3,
   "metadata": {},
   "outputs": [],
   "source": [
    "def Heston(paths, alpha, b, rho, mu, sigma, v0, s0):\n",
    "    \n",
    "    \"\"\"Simulates Stock prices using the Heston Model\n",
    "\n",
    "    Arguments:\n",
    "        paths: The number of paths that will be generated\n",
    "        alpha: Speed of reversion\n",
    "        b: Long-term variance mean level\n",
    "        rho: Correlation betwen Brownian motions\n",
    "        mu: Drift of stock price\n",
    "        sigma: Standard deviation of the standard deviation\n",
    "        v0: Initial condition for volatility\n",
    "        s0: Initial condition for the stock price\n",
    "\n",
    "    Returns:\n",
    "        vol: the volatility at each point in time.\n",
    "        S: the stock price at each point in time.\n",
    "    \"\"\"\n",
    "\n",
    "    # We generate the two corelated Brownian motions \n",
    "    means = np.array([0, 0])\n",
    "    covs = np.matrix([[1, rho], [rho, 1]])\n",
    "    W = ss.multivariate_normal.rvs( mean=means, cov=covs, size=(paths,steps) )\n",
    "\n",
    "    W_S = W[:,:,0]   # Stock Brownian motion    \n",
    "    W_V = W[:,:,1]   # Variance Brownian motion\n",
    "\n",
    "    # We initialize the vectors\n",
    "    vol = np.zeros((paths,steps+1))\n",
    "    S = np.zeros((paths,steps+1))\n",
    "    \n",
    "    # We set the initial conditions\n",
    "    vol[:,0] = v0\n",
    "    S[:,0] = s0\n",
    "    \n",
    "    for i in range(steps):\n",
    "        vol[:,i+1] = vol[:,i] + alpha*(b-vol[:,i])*dt + sigma*np.sqrt(vol[:,i])*np.sqrt(dt)*W_V[:,i]\n",
    "        S[:,i+1] = S[:,i] + mu*dt*S[:,i] + np.sqrt(vol[:,i])*np.sqrt(dt)*W_S[:,i]*S[:,i] \n",
    "    \n",
    "    # We return the volatility and the stock price as a function of time\n",
    "    return vol, S"
   ]
  },
  {
   "cell_type": "code",
   "execution_count": 4,
   "metadata": {},
   "outputs": [
    {
     "name": "stdout",
     "output_type": "stream",
     "text": [
      "Feller condition is satisfied\n"
     ]
    }
   ],
   "source": [
    "# Input Parameters:\n",
    "steps = 1000                        # Number of small sub-steps (time)\n",
    "ti = 0.0                            # Initial time (current time)\n",
    "tf = 1.0                            # Maturity time\n",
    "dt = (tf-ti)/steps                  # Time step\n",
    "time = np.linspace(ti, tf, steps+1)\n",
    "\n",
    "paths = 30000                       # Number of Monte Carlo paths      \n",
    "alpha = 2.                          # Speed of reversion                           \n",
    "b = 0.01                            # Long-term variance mean level                             \n",
    "rho = 0.                            # Correlation betwen Brownian motions                              \n",
    "mu = 0.0                            # Drift of stock price                         \n",
    "sigma = 0.1                         # Standard deviation of the standard deviation                         \n",
    "v0 = 0.01                           # Initial volatility                         \n",
    "s0 = 105.0                          # Initial stock price                      \n",
    "K = 100.0                           # Strike price\n",
    "\n",
    "if 2*alpha*b>sigma**2.:\n",
    "    print(\"Feller condition is satisfied\")\n",
    "else:\n",
    "    print(\"Feller condition is NOT satisfied\")"
   ]
  },
  {
   "cell_type": "code",
   "execution_count": 9,
   "metadata": {},
   "outputs": [
    {
     "name": "stdout",
     "output_type": "stream",
     "text": [
      "The price for a Call option is =  7.07\n",
      "The price for a Put option is  =  2.03\n"
     ]
    }
   ],
   "source": [
    "# We generate different examples with the same input parameters\n",
    "vol, S = Heston(paths, alpha, b, rho, mu, sigma, v0, s0)    \n",
    "\n",
    "# Use the Feynman-Kac theorem to calculate the Call option price as an expectation value\n",
    "call_price = np.mean(np.maximum(S[:,-1] - K, 0))\n",
    "put_price = np.mean(np.maximum(K - S[:,-1] , 0))\n",
    "\n",
    "print('The price for a Call option is = ', round(call_price,2))\n",
    "print('The price for a Put option is  = ', round(put_price,2))"
   ]
  }
 ],
 "metadata": {
  "kernelspec": {
   "display_name": "Python 3",
   "language": "python",
   "name": "python3"
  },
  "language_info": {
   "codemirror_mode": {
    "name": "ipython",
    "version": 3
   },
   "file_extension": ".py",
   "mimetype": "text/x-python",
   "name": "python",
   "nbconvert_exporter": "python",
   "pygments_lexer": "ipython3",
   "version": "3.10.12"
  },
  "orig_nbformat": 4
 },
 "nbformat": 4,
 "nbformat_minor": 2
}
